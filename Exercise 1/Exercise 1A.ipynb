{
 "cells": [
  {
   "cell_type": "markdown",
   "id": "fe7fac82-ff86-4462-99fe-85b480ce691a",
   "metadata": {},
   "source": [
    "# CertiK – Web Scraping Technical Evaluation\n",
    "\n",
    "In this notebook, I will cover design decisions, exploratory data analysis , and potential improvements."
   ]
  },
  {
   "cell_type": "markdown",
   "id": "65c72bfb-807e-4815-8e63-b5d1c8a259d0",
   "metadata": {},
   "source": [
    "## General Acknowledgements\n",
    "\n",
    "\n",
    "#### Low security environment\n",
    "I acknowledge that there is a severe lack of security during this process. I felt that given the time constraints and nature of this assignment, it was best to focus on the main task at hand which is showcasing various web scraping methodologies.\n",
    "\n",
    "#### Opportunities for improvement\n",
    "\n",
    "If I allot more time to this challenge, some other technologies I would considering using are:\n",
    "* Streamlit: a platform to quickly build data MVPs\n",
    "* Heroku: another cloud computing service\n",
    "* FPDF (a python library): generate a beautiful PDF report of my results using the FPDF library in Python\n",
    "* I would store data in AWS S3, using the boto3 module, just to demonstrate that I capable of using S3\n",
    "\n",
    "***Check out my data driven Rent Estimator app: https://jastinder.herokuapp.com/***"
   ]
  },
  {
   "cell_type": "markdown",
   "id": "5378b5a5-aed9-4f3d-b9ef-784e02dc4711",
   "metadata": {},
   "source": [
    "## Exercise 1A: Scraping Autograph.io (Tom Brady's NFT Marketplace)\n",
    "\n",
    "Autograph.io is \"an NFT platform that brings together the most iconic brands and legendary names in sports, entertainment and culture to create unique digital collections and experiences.\" \n",
    " \n",
    "#### Motivation: \n",
    "\n",
    "I chose this website because Autograph.io is Tom Brady's NFT Venture, and I would consider myself a fan of Tom Brady. I assume that this sort of site will not have sophistacated anti-scraping measures in place, which will ultimately increase will likelihood of success.\n",
    "\n",
    "#### Objective: \n",
    "\n",
    "Monitor the leaderboards for top collectors and over time, track each individuals score and streak (who's on top, how long have they been there and by how much have they been in the lead, etc).\n",
    "\n",
    "#### Data Integrity\n",
    "Granted that this is a newer, novel business venture, and generally unregulated I am a little bit skeptical to trust the data. I am directly scraping data provided by Autograph.io, I am assuming that Autograph.io's leaderboard data is valid and true, and is not being artificially inflated or misrepresenting in any matter. I have no way of truly validating this myself so I must simply make the assumption that what is displayed is true!\n",
    "\n",
    "\n",
    "Always keep GIGO (garbage in, garbage out) in mind!"
   ]
  },
  {
   "cell_type": "code",
   "execution_count": 1,
   "id": "796cb9e8-74d9-479f-8f18-55273660ec4b",
   "metadata": {},
   "outputs": [
    {
     "name": "stdout",
     "output_type": "stream",
     "text": [
      "Status Code: 200\n",
      "   Rank Collector_Username Collector_Score\n",
      "0     1   @laukialovforeve         1308370\n",
      "1     2         @takrummel         1274278\n",
      "2     3           @mkatzpp         1172020\n",
      "3     4             @italy         1126383\n",
      "4     5            @dkjets         1089215\n",
      "5     6      @stingray1004          878990\n",
      "6     7          @ahiles16          830368\n",
      "7     8    @samiratinitech          773520\n",
      "8     9         @bheals152          739157\n",
      "9    10          @spagatti          718628\n",
      "10   11         @autocraft          718302\n",
      "11   12         @greatnape          623309\n",
      "12   13            @lowal7          618053\n",
      "13   14      @cheddarmills          589866\n",
      "14   15         @jmzentner          571194\n",
      "15   16            @ncane1          542998\n",
      "16   17        @mikeyt2177          534366\n",
      "17   18    @bladevisionary          530004\n",
      "18   19       @wmrickjames          480163\n",
      "19   20      @datrashman13          448519\n",
      "20   21       @stevens1979          433923\n",
      "21   22     @swaggycripple          433657\n",
      "22   23    @donjuancristal          432035\n",
      "23   24    @elonmuskrocket          430639\n",
      "24   25           @domnfts          409863\n",
      "AxesSubplot(0.125,0.125;0.775x0.755)\n"
     ]
    },
    {
     "data": {
      "image/png": "[encoded data removed]",
      "text/plain": [
       "<Figure size 720x1440 with 1 Axes>"
      ]
     },
     "metadata": {
      "needs_background": "light"
     },
     "output_type": "display_data"
    }
   ],
   "source": [
    "# Let's demonstrate how to collect Autograph.io's NFT leaderboard data by simply scraping it\n",
    "\n",
    "# I have successfully used the bs4 module in the past to parse scraped data so I am naturally inclined to use it again\n",
    "import requests\n",
    "from bs4 import BeautifulSoup\n",
    "\n",
    "# After inspecting the webpage externally, I determined that the below URL was the right one to scrape for our objective\n",
    "url=\"https://autograph.io/leaderboards\"\n",
    "\n",
    "# Make a GET request to fetch the raw HTML content\n",
    "raw_data = requests.get(url)\n",
    "print('Status Code:', raw_data.status_code) # verify that the request was successful\n",
    "\n",
    "# Download and save the raw data locally\n",
    "import time\n",
    "timestamp = time.strftime('%Y%m%d')\n",
    "filename = f'{timestamp}_Autograph_Leaderboard'\n",
    "with open(f'Data Dump/{filename}.html', 'w') as f:\n",
    "    f.write(raw_data.text)\n",
    "    \n",
    "# Parse the raw HTML data using BeautifulSoup\n",
    "with open(f'Data Dump/{filename}.html', 'r') as f:\n",
    "    soup = BeautifulSoup(f, \"html.parser\")\n",
    "    \n",
    "#print(soup.prettify)\n",
    "\n",
    "# After further inspecting the webpage externally, I found the following tags were the right ones to parse in order to meet our objective\n",
    "users = soup.find('div', class_=\"leaderboards-grid__wrap\").find_all('div', class_=\"user-card w-profile-img card-visibility\")\n",
    "\n",
    "# We can use the pandas library to structure the data nicely\n",
    "import pandas as pd\n",
    "import re\n",
    "\n",
    "leaderboard = pd.DataFrame(columns=['Rank','Collector_Username','Collector_Score'])\n",
    "\n",
    "for user in users:\n",
    "    rank = user.find('span').text\n",
    "    # print(rank)\n",
    "    name = user.find('div', class_=\"user-card__user-info\").text\n",
    "    # print(name)\n",
    "    score = user.find('div', class_=\"user-card__score\").text\n",
    "    score = re.sub('[^0-9]','',score)\n",
    "    # print(score)\n",
    "    leaderboard = leaderboard.append({'Rank':int(rank),'Collector_Username':name,'Collector_Score':int(score)},ignore_index=True)\n",
    "\n",
    "#Save our pandas dataframe as a CSV, per the requirements\n",
    "leaderboard.to_csv(f'Data Dump/{filename}.csv')\n",
    "print(leaderboard.to_string())\n",
    "print(leaderboard.plot.barh(x='Rank',y='Collector_Score',figsize=(10,15)))"
   ]
  },
  {
   "cell_type": "markdown",
   "id": "7060a72b-42a1-48dd-b4fa-1e9b6e174dd2",
   "metadata": {},
   "source": [
    "### Future improvements\n",
    "\n",
    "- This chunk of code can be written in a .py file and be automatically run daily, using the \"schedule\" library ran in the background.\n",
    "- Pagination. I only scraped the first page, however more code can be written to allow us to scrape subsequent pages."
   ]
  }
 ],
 "metadata": {
  "kernelspec": {
   "display_name": "Python 3 (ipykernel)",
   "language": "python",
   "name": "python3"
  },
  "language_info": {
   "codemirror_mode": {
    "name": "ipython",
    "version": 3
   },
   "file_extension": ".py",
   "mimetype": "text/x-python",
   "name": "python",
   "nbconvert_exporter": "python",
   "pygments_lexer": "ipython3",
   "version": "3.9.7"
  }
 },
 "nbformat": 4,
 "nbformat_minor": 5
}
